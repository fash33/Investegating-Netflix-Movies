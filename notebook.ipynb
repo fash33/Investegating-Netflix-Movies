{
  "cells": [
    {
      "source": [
        "# Importing pandas and matplotlib\n",
        "import pandas as pd\n",
        "import matplotlib.pyplot as plt\n",
        "\n",
        "# Loading the data\n",
        "netflix_df = pd.read_csv('netflix_data.csv', index_col = 0)\n",
        "\n",
        "# Exploring the dataset\n",
        "print(netflix_df.shape)\n",
        "print(netflix_df.head())\n",
        "print(netflix_df.info())\n",
        "print(netflix_df.describe())\n",
        "\n",
        "# Filtering data to remove TV Shows\n",
        "netflix_subset = netflix_df[netflix_df['type'] != 'TV Show']\n",
        "\n",
        "# Subsetting movie data keeping only the title, country, genre, release_date, and duration columns\n",
        "cols = ['title', 'country', 'genre', 'release_year','duration']\n",
        "netflix_movies = netflix_subset[cols]\n",
        "short_movies = netflix_movies[netflix_movies['duration'] < 60]\n",
        "\n",
        "# Assiging colors to to the different genres\n",
        "colors = []\n",
        "for index,row in netflix_movies.iterrows():\n",
        "    if row['genre'] == 'Children':\n",
        "        colors.append('yellow')\n",
        "    elif row['genre'] == 'Documentaries':\n",
        "        colors.append('blue')\n",
        "    elif row['genre'] == 'Stand-Up':\n",
        "        colors.append('red')\n",
        "    else:\n",
        "        colors.append('green')\n",
        "\n",
        "# Plotting the release year by duration with the colors list\n",
        "fig = plt.figure()\n",
        "ax1 = fig.add_axes([0,0,1,1])\n",
        "ax1.scatter(netflix_movies['release_year'], netflix_movies['duration'], c = colors)\n",
        "ax1.set_title('Movie Duration by Year of Release')\n",
        "ax1.set_xlabel('Release year')\n",
        "ax1.set_ylabel('Duration (min)')\n",
        "\n",
        "# The plot shows an even distribution between short and long movies. After inspecting we can come to conclusion that the average duration of movies are not declining\n",
        "answer = 'no'"
      ],
      "metadata": {
        "executionTime": 652,
        "lastSuccessfullyExecutedCode": "# Importing pandas and matplotlib\nimport pandas as pd\nimport matplotlib.pyplot as plt\n\n# Start coding!\nnetflix_df = pd.read_csv('netflix_data.csv', index_col = 0)\n\nnetflix_subset = netflix_df[netflix_df['type'] != 'TV Show']\n\n\ncols = ['title', 'country', 'genre', 'release_year','duration']\nnetflix_movies = netflix_subset[cols]\nshort_movies = netflix_movies[netflix_movies['duration'] < 60]\ncolors = []\nfor index,row in netflix_movies.iterrows():\n    if row['genre'] == 'Children':\n        colors.append('yellow')\n    elif row['genre'] == 'Documentaries':\n        colors.append('blue')\n    elif row['genre'] == 'Stand-Up':\n        colors.append('red')\n    else:\n        colors.append('green')\nfig = plt.figure()\nax1 = fig.add_axes([0,0,1,1])\nax1.scatter(netflix_movies['release_year'], netflix_movies['duration'], c = colors)\nax1.set_title('Movie Duration by Year of Release')\nax1.set_xlabel('Release year')\nax1.set_ylabel('Duration (min)')\nanswer = 'no'",
        "executionCancelledAt": null,
        "lastExecutedAt": 1712378140891,
        "lastExecutedByKernel": "b9a6477f-7a22-4848-a8e9-d3f58a74c3fe",
        "lastScheduledRunId": null,
        "outputsMetadata": {
          "0": {
            "height": 400,
            "type": "stream"
          }
        },
        "jupyter": {
          "outputs_hidden": false,
          "source_hidden": false
        },
        "colab": {
          "base_uri": "https://localhost:8080/"
        },
        "id": "320a3abc-8a36-4b2b-baaf-473325363a4d",
        "outputId": "d1ee5bbe-a85e-4052-e8ef-633bb0f0cc79"
      },
      "id": "320a3abc-8a36-4b2b-baaf-473325363a4d",
      "cell_type": "code",
      "execution_count": 5,
      "outputs": [
        {
          "output_type": "stream",
          "name": "stdout",
          "text": [
            "       release_year     duration\n",
            "count   7787.000000  7787.000000\n",
            "mean    2013.932580    69.122769\n",
            "std        8.757395    50.950743\n",
            "min     1925.000000     1.000000\n",
            "25%     2013.000000     2.000000\n",
            "50%     2017.000000    88.000000\n",
            "75%     2018.000000   106.000000\n",
            "max     2021.000000   312.000000\n"
          ]
        }
      ]
    },
    {
      "cell_type": "code",
      "source": [],
      "metadata": {
        "id": "vyHVDnbtbQE_"
      },
      "id": "vyHVDnbtbQE_",
      "execution_count": null,
      "outputs": []
    }
  ],
  "metadata": {
    "colab": {
      "provenance": []
    },
    "kernelspec": {
      "display_name": "Python 3 (ipykernel)",
      "language": "python",
      "name": "python3"
    },
    "language_info": {
      "codemirror_mode": {
        "name": "ipython",
        "version": 3
      },
      "file_extension": ".py",
      "mimetype": "text/x-python",
      "name": "python",
      "nbconvert_exporter": "python",
      "pygments_lexer": "ipython3",
      "version": "3.8.10"
    }
  },
  "nbformat": 4,
  "nbformat_minor": 5
}